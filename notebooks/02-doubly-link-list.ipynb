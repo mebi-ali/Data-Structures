{
 "cells": [
  {
   "cell_type": "markdown",
   "metadata": {},
   "source": [
    "## 🌟 Introduction to Doubly Linked Lists 🌟\n",
    "\n",
    "A doubly linked list is a linear data structure where elements are stored in nodes, with each node containing a data element and references to both the next and previous nodes in the sequence. Doubly linked lists offer bidirectional traversal and ease of insertion and deletion compared to singly linked lists. Each node in a doubly linked list requires more memory to store the references to the previous and next nodes, but it provides more flexibility in data manipulation.\n",
    "\n",
    "### Advantages of Doubly Linked Lists:\n",
    "- Bidirectional traversal\n",
    "- Ease of insertion and deletion\n",
    "- More flexibility in data manipulation"
   ]
  },
  {
   "cell_type": "code",
   "execution_count": 9,
   "metadata": {},
   "outputs": [],
   "source": [
    "class Node:\n",
    "    def __init__(self, data=None) -> None:\n",
    "        self.data = data\n",
    "        self.next = None\n",
    "        self.prev = None\n",
    "\n",
    "class Doubly:\n",
    "    def __init__(self) -> None:\n",
    "        self.head = None"
   ]
  },
  {
   "cell_type": "code",
   "execution_count": 22,
   "metadata": {},
   "outputs": [],
   "source": [
    "def __str__(self):\n",
    "    node = self.head\n",
    "    nodes = []\n",
    "    while node is not None:\n",
    "        print( hex(id(node.prev) ), hex(id(node)), hex(id(node.next )) ) \n",
    "        nodes.append(str(node.data))\n",
    "        node = node.next\n",
    "    nodes.append(\"None\")\n",
    "    return \" -><- \".join(nodes)\n",
    "\n",
    "Doubly.__str__ = __str__\n",
    "    "
   ]
  },
  {
   "cell_type": "code",
   "execution_count": 11,
   "metadata": {},
   "outputs": [],
   "source": [
    "## Push Func\n",
    "def push(self, data):\n",
    "    new_node = Node(data)\n",
    "    \n",
    "    ## if no node \n",
    "    if self.head is None:\n",
    "        self.head = new_node\n",
    "        return\n",
    "    \n",
    "    ## otherwise, reach the end and then insert\n",
    "    last = self.head\n",
    "    while last.next is not None:\n",
    "        last = last.next\n",
    "    last.next = new_node\n",
    "    new_node.prev = last # Only this change from single linked list\n",
    "\n",
    "Doubly.push = push"
   ]
  },
  {
   "cell_type": "code",
   "execution_count": 12,
   "metadata": {},
   "outputs": [
    {
     "name": "stdout",
     "output_type": "stream",
     "text": [
      "1 -><- 2 -><- 3 -><- None\n"
     ]
    }
   ],
   "source": [
    "l = Doubly()\n",
    "l.push(1)\n",
    "l.push(2)\n",
    "l.push(3)\n",
    "\n",
    "print(l)"
   ]
  },
  {
   "cell_type": "code",
   "execution_count": 13,
   "metadata": {},
   "outputs": [],
   "source": [
    "## Pop func\n",
    "def pop(self):\n",
    "    if self.head is None:\n",
    "        raise Exception(\"List is empty\")\n",
    "\n",
    "    ## case where there is only one node\n",
    "    if self.head.next is None:\n",
    "        data = self.head.data\n",
    "        self.head = None\n",
    "        return data\n",
    "\n",
    "    ## case where there are more than one node\n",
    "    temp = self.head\n",
    "    while temp.next is not None:\n",
    "        prev = temp\n",
    "        temp = temp.next\n",
    "\n",
    "    prev.next = None\n",
    "    return temp.data\n",
    "\n",
    "Doubly.pop = pop"
   ]
  },
  {
   "cell_type": "code",
   "execution_count": 15,
   "metadata": {},
   "outputs": [
    {
     "name": "stdout",
     "output_type": "stream",
     "text": [
      "3\n",
      "2\n",
      "1 -><- None\n"
     ]
    }
   ],
   "source": [
    "l = Doubly()\n",
    "l.push(1)\n",
    "l.push(2)\n",
    "l.push(3)\n",
    "print(l.pop())\n",
    "print(l.pop())\n",
    "print(l)"
   ]
  },
  {
   "cell_type": "code",
   "execution_count": 37,
   "metadata": {},
   "outputs": [],
   "source": [
    "## Insert func\n",
    "def insert(self, index, data):\n",
    "    new_node = Node(data)\n",
    "    \n",
    "    ## if index is negative or greater than the length\n",
    "    if index < 0:\n",
    "        raise Exception('Invalid index:')\n",
    "    \n",
    "    elif index == 0:\n",
    "        new_node.next = self.head\n",
    "        if self.head is not None: # Only this change from single linked list\n",
    "            self.head.prev = new_node\n",
    "        self.head = new_node\n",
    "        return\n",
    "    \n",
    "    temp = self.head\n",
    "    counter  = 0\n",
    "    while temp is not None and counter < index:\n",
    "        prev = temp \n",
    "        temp = temp.next\n",
    "        counter += 1\n",
    "\n",
    "    new_node.next = prev.next     \n",
    "    prev.next = new_node\n",
    "    new_node.prev = prev # change\n",
    "    \n",
    "    \n",
    "     \n",
    "        \n",
    "Doubly.insert = insert"
   ]
  },
  {
   "cell_type": "code",
   "execution_count": 38,
   "metadata": {},
   "outputs": [
    {
     "name": "stdout",
     "output_type": "stream",
     "text": [
      "0x558aaa49c3e0 0x7fd224eac400 0x7fd224e9c250\n",
      "0x7fd224eac400 0x7fd224e9c250 0x7fd224e9cb50\n",
      "0x7fd224e9c250 0x7fd224e9cb50 0x7fd224eadc00\n",
      "0x7fd224e9cb50 0x7fd224eadc00 0x558aaa49c3e0\n",
      "0 -><- 1 -><- 2 -><- 3 -><- None\n",
      "0x558aaa49c3e0 0x7fd224eac400 0x7fd224ead810\n",
      "0x7fd224eac400 0x7fd224ead810 0x7fd224e9c250\n",
      "0x7fd224eac400 0x7fd224e9c250 0x7fd224e9cb50\n",
      "0x7fd224e9c250 0x7fd224e9cb50 0x7fd224eadc00\n",
      "0x7fd224e9cb50 0x7fd224eadc00 0x558aaa49c3e0\n",
      "0 -><- 13 -><- 1 -><- 2 -><- 3 -><- None\n",
      "0x558aaa49c3e0 0x7fd224eac400 0x7fd224ead810\n",
      "0x7fd224eac400 0x7fd224ead810 0x7fd224e9c250\n",
      "0x7fd224eac400 0x7fd224e9c250 0x7fd224e9cb50\n",
      "0x7fd224e9c250 0x7fd224e9cb50 0x7fd224eadc00\n",
      "0x7fd224e9cb50 0x7fd224eadc00 0x7fd224eae290\n",
      "0x7fd224eadc00 0x7fd224eae290 0x558aaa49c3e0\n",
      "0 -><- 13 -><- 1 -><- 2 -><- 3 -><- 14 -><- None\n"
     ]
    }
   ],
   "source": [
    "l = Doubly()\n",
    "l.push(1)\n",
    "l.push(2)\n",
    "l.push(3)\n",
    "l.insert(0, 0)\n",
    "print(l)\n",
    "\n",
    "l.insert(1, 13)\n",
    "print(l)\n",
    "l.insert(1000, 14)\n",
    "print(l)"
   ]
  },
  {
   "cell_type": "code",
   "execution_count": 47,
   "metadata": {},
   "outputs": [],
   "source": [
    "## Remove func\n",
    "def remove(self, data):\n",
    "    if self.head is None:\n",
    "        raise Exception(\"List is empty\")\n",
    "    \n",
    "    if self.head.data == data:\n",
    "        self.head = self.head.next\n",
    "        return\n",
    "    \n",
    "    temp = self.head\n",
    "    while temp is not None:\n",
    "        if temp.data == data:\n",
    "            break\n",
    "        prev = temp\n",
    "        temp = temp.next\n",
    "        \n",
    "    if temp is None:\n",
    "        raise Exception(\"Value not found.\")\n",
    "\n",
    "    temp.prev = prev.prev # change\n",
    "    prev.next = temp.next\n",
    "    temp = temp.next # change\n",
    "    \n",
    "\n",
    "Doubly.remove = remove"
   ]
  },
  {
   "cell_type": "code",
   "execution_count": 53,
   "metadata": {},
   "outputs": [],
   "source": [
    "l = Doubly()\n",
    "l.push(1)\n",
    "l.push(2)\n",
    "l.push(3)\n",
    "print(l)\n",
    "l.remove(3)\n",
    "print(l)\n",
    "\n",
    "l.remove(1)\n",
    "print(l)\n",
    "\n",
    "l.remove(12)\n",
    "print(l)"
   ]
  },
  {
   "cell_type": "code",
   "execution_count": 54,
   "metadata": {},
   "outputs": [],
   "source": [
    "## Length of Link List\n",
    "def length(self):\n",
    "    if self.head is None:\n",
    "        return 0\n",
    "    temp = self.head\n",
    "    counter = 0\n",
    "    while temp is not None:\n",
    "        temp = temp.next\n",
    "        counter += 1\n",
    "    return counter\n",
    "\n",
    "Doubly.length = length"
   ]
  },
  {
   "cell_type": "code",
   "execution_count": 55,
   "metadata": {},
   "outputs": [
    {
     "name": "stdout",
     "output_type": "stream",
     "text": [
      "0x558aaa49c3e0 0x7fd224ed12d0 0x7fd224ed2e60\n",
      "0x7fd224ed12d0 0x7fd224ed2e60 0x7fd224ed1750\n",
      "0x7fd224ed2e60 0x7fd224ed1750 0x558aaa49c3e0\n",
      "1 -><- 2 -><- 3 -><- None\n"
     ]
    },
    {
     "data": {
      "text/plain": [
       "3"
      ]
     },
     "execution_count": 55,
     "metadata": {},
     "output_type": "execute_result"
    }
   ],
   "source": [
    "l = Doubly()\n",
    "l.push(1)\n",
    "l.push(2)\n",
    "l.push(3)\n",
    "print(l)\n",
    "l.length()"
   ]
  },
  {
   "cell_type": "code",
   "execution_count": 56,
   "metadata": {},
   "outputs": [],
   "source": [
    "## Get data by index in link list\n",
    "def get_data_by_index(self, index):\n",
    "    \n",
    "    if self.head is None:\n",
    "        raise Exception(\"List is empty\")\n",
    "    if index == 0:\n",
    "        return self.head.data\n",
    "    temp = self.head\n",
    "    counter = 0\n",
    "    while temp is not None:\n",
    "        if index == counter:\n",
    "            return temp.data\n",
    "        temp = temp.next\n",
    "        counter += 1\n",
    "    raise Exception(\"Index out of range\") \n",
    "\n",
    "Doubly.get_data_by_index = get_data_by_index"
   ]
  },
  {
   "cell_type": "code",
   "execution_count": 57,
   "metadata": {},
   "outputs": [
    {
     "name": "stdout",
     "output_type": "stream",
     "text": [
      "0x558aaa49c3e0 0x7fd224ed06d0 0x7fd224ed1510\n",
      "0x7fd224ed06d0 0x7fd224ed1510 0x7fd224eade10\n",
      "0x7fd224ed1510 0x7fd224eade10 0x558aaa49c3e0\n",
      "1 -><- 2 -><- 3 -><- None\n"
     ]
    },
    {
     "data": {
      "text/plain": [
       "2"
      ]
     },
     "execution_count": 57,
     "metadata": {},
     "output_type": "execute_result"
    }
   ],
   "source": [
    "l = Doubly()\n",
    "l.push(1)\n",
    "l.push(2)\n",
    "l.push(3)\n",
    "print(l)\n",
    "l.get_data_by_index(1)"
   ]
  },
  {
   "cell_type": "code",
   "execution_count": 1,
   "metadata": {},
   "outputs": [],
   "source": [
    "def push(self, data):\n",
    "    return self.insert(self.length()-1, data)\n",
    "\n",
    "def pop(self, data):\n",
    "    return self.remove(self.length() - 1, data)\n",
    "\n",
    "Doubly.push = push\n",
    "Doubly.pop = pop"
   ]
  },
  {
   "cell_type": "code",
   "execution_count": null,
   "metadata": {},
   "outputs": [],
   "source": []
  }
 ],
 "metadata": {
  "kernelspec": {
   "display_name": "venv",
   "language": "python",
   "name": "python3"
  },
  "language_info": {
   "codemirror_mode": {
    "name": "ipython",
    "version": 3
   },
   "file_extension": ".py",
   "mimetype": "text/x-python",
   "name": "python",
   "nbconvert_exporter": "python",
   "pygments_lexer": "ipython3",
   "version": "3.10.12"
  }
 },
 "nbformat": 4,
 "nbformat_minor": 2
}

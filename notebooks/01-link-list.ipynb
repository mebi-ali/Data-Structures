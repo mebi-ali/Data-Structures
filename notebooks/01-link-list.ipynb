{
 "cells": [
  {
   "cell_type": "markdown",
   "metadata": {},
   "source": [
    "# 🌟 Introduction to Linked Lists 🌟\n",
    "\n",
    "A linked list is a linear data structure where elements are stored in nodes. Each node contains a data element and a reference to the next node in the sequence. Linked lists offer dynamic memory allocation, ease of insertion and deletion, and efficient memory usage compared to arrays. \n",
    "\n",
    "### Advantages of Linked Lists:\n",
    "- 💡 Dynamic memory allocation\n",
    "- 💡 Ease of insertion and deletion\n",
    "- 💡 Efficient memory usage compared to arrays\n",
    "\n",
    "There are different types of linked lists such as:\n",
    "- Singly linked lists\n",
    "- Doubly linked lists\n",
    "- Circular linked lists\n"
   ]
  },
  {
   "cell_type": "code",
   "execution_count": 12,
   "metadata": {},
   "outputs": [],
   "source": [
    "class Node:\n",
    "    def __init__(self, data=None) -> None:\n",
    "        self.data = data\n",
    "        self.next = None\n",
    "\n",
    "class LinkedList:\n",
    "    def __init__(self) -> None:\n",
    "        self.head = None"
   ]
  },
  {
   "cell_type": "code",
   "execution_count": 18,
   "metadata": {},
   "outputs": [],
   "source": [
    "def __str__(self):\n",
    "    node = self.head\n",
    "    nodes = []\n",
    "    while node is not None:\n",
    "        nodes.append(str(node.data))\n",
    "        node = node.next\n",
    "    nodes.append(\"None\")\n",
    "    return \" -> \".join(nodes)\n",
    "\n",
    "LinkedList.__str__ = __str__\n",
    "    "
   ]
  },
  {
   "cell_type": "markdown",
   "metadata": {},
   "source": [
    "# 🚀 Introduction to Push Operation 🚀\n",
    "\n",
    "The push operation is a fundamental operation in data structures, particularly in the context of stacks and linked lists.\n",
    "\n",
    "### In the context of linked lists:\n",
    "- It adds a new element to the beginning of the list\n",
    "- It updates the head pointer to point to the new element\n",
    "- This operation is efficient, with a time complexity of O(1)"
   ]
  },
  {
   "cell_type": "code",
   "execution_count": 19,
   "metadata": {},
   "outputs": [],
   "source": [
    "## Push Func\n",
    "def push(self, data):\n",
    "    new_node = Node(data)\n",
    "    \n",
    "    ## if no node \n",
    "    if self.head is None:\n",
    "        self.head = new_node\n",
    "        return\n",
    "    \n",
    "    ## otherwise, reach the end and then insert\n",
    "    last = self.head\n",
    "    while last.next is not None:\n",
    "        last = last.next\n",
    "    last.next = new_node\n",
    "\n",
    "LinkedList.push = push\n",
    "        \n",
    "    "
   ]
  },
  {
   "cell_type": "code",
   "execution_count": 20,
   "metadata": {},
   "outputs": [
    {
     "name": "stdout",
     "output_type": "stream",
     "text": [
      "1 -> 2 -> 3 -> None\n"
     ]
    }
   ],
   "source": [
    "l = LinkedList()\n",
    "l.push(1)\n",
    "l.push(2)\n",
    "l.push(3)\n",
    "\n",
    "print(l)"
   ]
  },
  {
   "cell_type": "markdown",
   "metadata": {},
   "source": [
    "# 🌌 Introduction to Pop Operation 🌌\n",
    "\n",
    "The pop operation is a fundamental operation in data structures, particularly in the context of stacks and linked lists.\n",
    "\n",
    "### In the context of linked lists:\n",
    "- It removes the first element from the list\n",
    "- It updates the head pointer to point to the next element\n",
    "- This operation is efficient, with a time complexity of O(1)"
   ]
  },
  {
   "cell_type": "code",
   "execution_count": 22,
   "metadata": {},
   "outputs": [],
   "source": [
    "def pop(self):\n",
    "    if self.head is None:\n",
    "        raise Exception(\"List is empty\")\n",
    "\n",
    "    ## case where there is only one node\n",
    "    if self.head.next is None:\n",
    "        data = self.head.data\n",
    "        self.head = None\n",
    "        return data\n",
    "\n",
    "    ## case where there are more than one node\n",
    "    temp = self.head\n",
    "    while temp.next is not None:\n",
    "        prev = temp\n",
    "        temp = temp.next\n",
    "\n",
    "    prev.next = None\n",
    "    return temp.data\n",
    "\n",
    "LinkedList.pop = pop\n",
    "    "
   ]
  },
  {
   "cell_type": "code",
   "execution_count": 27,
   "metadata": {},
   "outputs": [],
   "source": [
    "print(l)\n",
    "print(l.pop())\n",
    "print(l.pop())\n",
    "print(l)"
   ]
  },
  {
   "cell_type": "markdown",
   "metadata": {},
   "source": [
    "# 🚀 Introduction to Insert Operation 🚀\n",
    "\n",
    "The insert operation in the context of linked lists:\n",
    "- Adds a new element at a specified position within the list\n",
    "- Involves updating the references of the neighboring nodes to accommodate the new element\n",
    "- The time complexity can vary depending on the position of insertion, with worst-case time complexity being O(n) for inserting at the end of the list"
   ]
  },
  {
   "cell_type": "code",
   "execution_count": 32,
   "metadata": {},
   "outputs": [],
   "source": [
    "def insert(self, index, data):\n",
    "    new_node = Node(data)\n",
    "    \n",
    "    ## if index is negative or greater than the length\n",
    "    if index < 0:\n",
    "        raise Exception('Invalid index:')\n",
    "    \n",
    "    elif index == 0:\n",
    "        new_node.next = self.head\n",
    "        self.head = new_node\n",
    "    \n",
    "    else:\n",
    "        temp = self.head\n",
    "        counter  = 0\n",
    "        while temp is not None and counter < index:\n",
    "            prev = temp \n",
    "            temp = temp.next\n",
    "            counter += 1\n",
    "        prev.next = new_node\n",
    "        new_node.next = temp\n",
    "        \n",
    "LinkedList.insert = insert\n",
    "            \n",
    "    "
   ]
  },
  {
   "cell_type": "code",
   "execution_count": 36,
   "metadata": {},
   "outputs": [
    {
     "name": "stdout",
     "output_type": "stream",
     "text": [
      "0 -> 1 -> 2 -> 3 -> None\n",
      "0 -> 13 -> 1 -> 2 -> 3 -> None\n"
     ]
    }
   ],
   "source": [
    "l = LinkedList()\n",
    "l.push(1)\n",
    "l.push(2)\n",
    "l.push(3)\n",
    "l.insert(0, 0)\n",
    "print(l)\n",
    "\n",
    "l.insert(1, 13)\n",
    "print(l)\n",
    "l.insert(1000, 14)\n",
    "print(l)"
   ]
  },
  {
   "cell_type": "markdown",
   "metadata": {},
   "source": [
    "# 🌟 Introduction to Remove Operation 🌟\n",
    "\n",
    "The remove operation in the context of linked lists:\n",
    "- Removes a specified element from the list\n",
    "- Involves updating the references of the neighboring nodes to bypass the removed element\n",
    "- The time complexity can vary depending on the position of the element to be removed, with worst-case time complexity being O(n) for removing the last element in the list"
   ]
  },
  {
   "cell_type": "code",
   "execution_count": 38,
   "metadata": {},
   "outputs": [],
   "source": [
    "def remove(self, data):\n",
    "    if self.head is None:\n",
    "        raise Exception(\"List is empty\")\n",
    "    \n",
    "    if self.head.data == data:\n",
    "        self.head = self.head.next\n",
    "        return\n",
    "    \n",
    "    temp = self.head\n",
    "    while temp is not None:\n",
    "        if temp.data == data:\n",
    "            break\n",
    "        prev = temp\n",
    "        temp = temp.next\n",
    "        \n",
    "    if temp is None:\n",
    "        raise Exception(\"Value not found.\")\n",
    "    \n",
    "    prev.next = temp.next\n",
    "    \n",
    "LinkedList.remove = remove\n"
   ]
  },
  {
   "cell_type": "code",
   "execution_count": 41,
   "metadata": {},
   "outputs": [],
   "source": [
    "l = LinkedList()\n",
    "l.push(1)\n",
    "l.push(2)\n",
    "l.push(3)\n",
    "l.remove(2)\n",
    "print(l)\n",
    "\n",
    "l.remove(1)\n",
    "print(l)\n",
    "\n",
    "l.remove(12)\n",
    "print(l)"
   ]
  },
  {
   "cell_type": "code",
   "execution_count": 42,
   "metadata": {},
   "outputs": [],
   "source": [
    "## Length of Link List\n",
    "def length(self):\n",
    "    if self.head is None:\n",
    "        return 0\n",
    "    temp = self.head\n",
    "    counter = 0\n",
    "    while temp is not None:\n",
    "        temp = temp.next\n",
    "        counter += 1\n",
    "    return counter\n",
    "\n",
    "LinkedList.length = length"
   ]
  },
  {
   "cell_type": "code",
   "execution_count": 43,
   "metadata": {},
   "outputs": [
    {
     "name": "stdout",
     "output_type": "stream",
     "text": [
      "1 -> 2 -> 3 -> None\n"
     ]
    },
    {
     "data": {
      "text/plain": [
       "3"
      ]
     },
     "execution_count": 43,
     "metadata": {},
     "output_type": "execute_result"
    }
   ],
   "source": [
    "l = LinkedList()\n",
    "l.push(1)\n",
    "l.push(2)\n",
    "l.push(3)\n",
    "print(l)\n",
    "l.length()"
   ]
  },
  {
   "cell_type": "code",
   "execution_count": 47,
   "metadata": {},
   "outputs": [],
   "source": [
    "## Get data by index in link list\n",
    "def get_data_by_index(self, index):\n",
    "    \n",
    "    if self.head is None:\n",
    "        raise Exception(\"List is empty\")\n",
    "    if index == 0:\n",
    "        return self.head.data\n",
    "    temp = self.head\n",
    "    counter = 0\n",
    "    while temp is not None:\n",
    "        if index == counter:\n",
    "            return temp.data\n",
    "        temp = temp.next\n",
    "        counter += 1\n",
    "    raise Exception(\"Index out of range\") \n",
    "\n",
    "LinkedList.get_data_by_index = get_data_by_index\n",
    "    "
   ]
  },
  {
   "cell_type": "code",
   "execution_count": 53,
   "metadata": {},
   "outputs": [
    {
     "name": "stdout",
     "output_type": "stream",
     "text": [
      "1 -> 2 -> 3 -> None\n"
     ]
    },
    {
     "data": {
      "text/plain": [
       "2"
      ]
     },
     "execution_count": 53,
     "metadata": {},
     "output_type": "execute_result"
    }
   ],
   "source": [
    "l = LinkedList()\n",
    "l.push(1)\n",
    "l.push(2)\n",
    "l.push(3)\n",
    "print(l)\n",
    "l.get_data_by_index(1)"
   ]
  }
 ],
 "metadata": {
  "kernelspec": {
   "display_name": "venv",
   "language": "python",
   "name": "python3"
  },
  "language_info": {
   "codemirror_mode": {
    "name": "ipython",
    "version": 3
   },
   "file_extension": ".py",
   "mimetype": "text/x-python",
   "name": "python",
   "nbconvert_exporter": "python",
   "pygments_lexer": "ipython3",
   "version": "3.10.12"
  }
 },
 "nbformat": 4,
 "nbformat_minor": 2
}

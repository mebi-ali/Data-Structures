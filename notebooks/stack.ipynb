{
 "cells": [
  {
   "cell_type": "code",
   "execution_count": 1,
   "metadata": {},
   "outputs": [],
   "source": [
    "class Stack:\n",
    "    \n",
    "    def __init__(self) -> None:\n",
    "        self.l = []\n",
    "        \n",
    "    def push(self, x):\n",
    "        self.l.append(x)\n",
    "    \n",
    "    def pop(self):\n",
    "        self.l.pop()\n",
    "        \n",
    "    def peek(self):\n",
    "        return self.l[-1]\n",
    "\n",
    "    def isEmpty(self):\n",
    "        return len(self.l) == 0"
   ]
  },
  {
   "cell_type": "code",
   "execution_count": 2,
   "metadata": {},
   "outputs": [
    {
     "name": "stdout",
     "output_type": "stream",
     "text": [
      "[1, 2, 3]\n"
     ]
    }
   ],
   "source": [
    "s = Stack()\n",
    "\n",
    "s.push(1)\n",
    "s.push(2)\n",
    "s.push(3)\n",
    "\n",
    "print(s.l)"
   ]
  },
  {
   "cell_type": "code",
   "execution_count": 3,
   "metadata": {},
   "outputs": [
    {
     "name": "stdout",
     "output_type": "stream",
     "text": [
      "[1, 2]\n"
     ]
    }
   ],
   "source": [
    "s.pop()\n",
    "print(s.l)"
   ]
  },
  {
   "cell_type": "code",
   "execution_count": 7,
   "metadata": {},
   "outputs": [],
   "source": [
    "def is_matched(string) -> bool:\n",
    "    opening = '({[)'\n",
    "    closing = ')}]'\n",
    "    mapping = dict(zip(opening, closing))\n",
    "\n",
    "    stack = []\n",
    "\n",
    "    for c in string:\n",
    "\n",
    "        # case 1: not a bracket\n",
    "        if c not in mapping.keys() and c not in mapping.values():\n",
    "            continue\n",
    "\n",
    "        # case 2: has to be opening bracket\n",
    "        elif c in mapping:\n",
    "            stack.append(mapping[c])\n",
    "\n",
    "        # case 3: has to be closing bracket if we get here\n",
    "        elif not stack or c != stack.pop():\n",
    "            return False\n",
    "        \n",
    "    return not stack"
   ]
  },
  {
   "cell_type": "code",
   "execution_count": 8,
   "metadata": {},
   "outputs": [
    {
     "data": {
      "text/plain": [
       "True"
      ]
     },
     "execution_count": 8,
     "metadata": {},
     "output_type": "execute_result"
    }
   ],
   "source": [
    "string = '{[[]]{()}}'\n",
    "is_matched(string)"
   ]
  },
  {
   "cell_type": "code",
   "execution_count": 9,
   "metadata": {},
   "outputs": [
    {
     "data": {
      "text/plain": [
       "True"
      ]
     },
     "execution_count": 9,
     "metadata": {},
     "output_type": "execute_result"
    }
   ],
   "source": [
    "string = \"2 + { ( (3 * 5) * (7 + 4) / 3) * 6 }\"\n",
    "is_matched(string)"
   ]
  },
  {
   "cell_type": "code",
   "execution_count": 11,
   "metadata": {},
   "outputs": [
    {
     "data": {
      "text/plain": [
       "False"
      ]
     },
     "execution_count": 11,
     "metadata": {},
     "output_type": "execute_result"
    }
   ],
   "source": [
    "string = \"2 + { ( (3 * 5) * (7 + 4) / 3 * 6 }\"\n",
    "is_matched(string)"
   ]
  },
  {
   "cell_type": "code",
   "execution_count": 15,
   "metadata": {},
   "outputs": [],
   "source": [
    "def dec_to_bin(num):\n",
    "    s1 = []\n",
    "    \n",
    "    if num == 0:\n",
    "        return '0'\n",
    "    \n",
    "    while num != 0:\n",
    "        s1.append(num % 2)\n",
    "        num = num // 2\n",
    "    \n",
    "    ret = ''\n",
    "    while s1:\n",
    "        ret += str(s1.pop())\n",
    "    return ret"
   ]
  },
  {
   "cell_type": "code",
   "execution_count": 16,
   "metadata": {},
   "outputs": [
    {
     "data": {
      "text/plain": [
       "'1010'"
      ]
     },
     "execution_count": 16,
     "metadata": {},
     "output_type": "execute_result"
    }
   ],
   "source": [
    "dec_to_bin(10)"
   ]
  }
 ],
 "metadata": {
  "kernelspec": {
   "display_name": "venv",
   "language": "python",
   "name": "python3"
  },
  "language_info": {
   "codemirror_mode": {
    "name": "ipython",
    "version": 3
   },
   "file_extension": ".py",
   "mimetype": "text/x-python",
   "name": "python",
   "nbconvert_exporter": "python",
   "pygments_lexer": "ipython3",
   "version": "3.10.12"
  }
 },
 "nbformat": 4,
 "nbformat_minor": 2
}

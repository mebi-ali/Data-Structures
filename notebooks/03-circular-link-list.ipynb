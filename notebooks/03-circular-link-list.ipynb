{
 "cells": [
  {
   "cell_type": "markdown",
   "metadata": {},
   "source": [
    "## 💫 Introduction to Circular Linked Lists 💫\n",
    "\n",
    "A circular linked list is a type of linked list where the last node points back to the first node, forming a circular chain. This structure allows for continuous traversal from any node in the list and efficient implementation of operations such as rotation and circular buffers. Circular linked lists are commonly used in applications requiring continuous data access and manipulation, such as scheduling algorithms and music playlists.\n",
    "\n",
    "### Key Features of Circular Linked Lists:\n",
    "- Continuous traversal from any node in the list\n",
    "- Efficient implementation of circular buffers\n",
    "- Support for operations like rotation"
   ]
  },
  {
   "cell_type": "code",
   "execution_count": 2,
   "metadata": {},
   "outputs": [],
   "source": [
    "class Node:\n",
    "    def __init__(self, data=None) -> None:\n",
    "        self.data = data\n",
    "        self.next = None\n",
    "\n",
    "class Ring:\n",
    "    def __init__(self) -> None:\n",
    "        self.head = None"
   ]
  },
  {
   "cell_type": "code",
   "execution_count": 11,
   "metadata": {},
   "outputs": [],
   "source": [
    "## str representation for Ring\n",
    "def __str__(self) -> str:\n",
    "    nodes = []\n",
    "    temp = self.head\n",
    "    while temp is not None:\n",
    "        nodes.append(str(temp.data))\n",
    "        temp = temp.next        \n",
    "        if temp == self.head:\n",
    "            break\n",
    "    return \"->\".join(nodes)\n",
    "\n",
    "Ring.__str__ = __str__\n",
    "\n",
    "    "
   ]
  },
  {
   "cell_type": "code",
   "execution_count": 4,
   "metadata": {},
   "outputs": [],
   "source": [
    "## get last node in ring\n",
    "def _get_last(self):\n",
    "    \n",
    "    ## no node, no last\n",
    "    if self.head is None:\n",
    "        return None\n",
    "    \n",
    "    ## if more than one node\n",
    "    temp = self.head.next\n",
    "    while temp.next != self.head:\n",
    "        temp = temp.next\n",
    "    return temp\n",
    "\n",
    "Ring._get_last = _get_last"
   ]
  },
  {
   "cell_type": "code",
   "execution_count": 5,
   "metadata": {},
   "outputs": [],
   "source": [
    "## Insert in Ring\n",
    "def insert(self, index, data):\n",
    "    new_node = Node(data)\n",
    "    \n",
    "    last = self._get_last()\n",
    "    \n",
    "    if index == 0:\n",
    "        new_node.next = self.head\n",
    "        self.head = new_node\n",
    "        \n",
    "        if last is None:\n",
    "            self.head.next = self.head\n",
    "        else:\n",
    "            last.next = self.head\n",
    "        return\n",
    "    \n",
    "    if self.head is None and index > 0:\n",
    "        raise IndexError(\"Index out of range\")\n",
    "\n",
    "    temp = self.head\n",
    "    counter = 0\n",
    "    while temp is not None and counter < index:\n",
    "        prev = temp\n",
    "        temp = temp.next\n",
    "        counter += 1\n",
    "    \n",
    "    prev.next = new_node\n",
    "    new_node.next = temp\n",
    "    \n",
    "Ring.insert = insert\n",
    "        \n",
    "    "
   ]
  },
  {
   "cell_type": "code",
   "execution_count": 14,
   "metadata": {},
   "outputs": [
    {
     "name": "stdout",
     "output_type": "stream",
     "text": [
      "1->15->3->2\n"
     ]
    }
   ],
   "source": [
    "r = Ring()\n",
    "r.insert(0, 1)\n",
    "r.insert(1, 2)\n",
    "r.insert(1, 15)\n",
    "r.insert(2, 3)\n",
    "print(r)\n"
   ]
  },
  {
   "cell_type": "code",
   "execution_count": 13,
   "metadata": {},
   "outputs": [
    {
     "data": {
      "text/plain": [
       "True"
      ]
     },
     "execution_count": 13,
     "metadata": {},
     "output_type": "execute_result"
    }
   ],
   "source": [
    "r._get_last().next == r.head"
   ]
  },
  {
   "cell_type": "code",
   "execution_count": 61,
   "metadata": {},
   "outputs": [],
   "source": [
    "r = Ring()\n",
    "r.insert(1, 2)"
   ]
  },
  {
   "cell_type": "code",
   "execution_count": 19,
   "metadata": {},
   "outputs": [],
   "source": [
    "## remove in Ring\n",
    "def remove(self, data):\n",
    "    if self.head is None:\n",
    "        raise Exception(\"List is Empty.\")\n",
    "    \n",
    "    last = self._get_last()\n",
    "    temp = self.head\n",
    "    \n",
    "    ## only one node\n",
    "    if temp.data == data:\n",
    "        if last == self.head:\n",
    "            self.head = None\n",
    "            \n",
    "        else:\n",
    "            self.head = temp.next\n",
    "            last.next = self.head\n",
    "        return\n",
    "    \n",
    "    prev = temp\n",
    "    temp = temp.next\n",
    "    while temp != self.head:\n",
    "        if temp.data == data:\n",
    "            break\n",
    "        prev = temp\n",
    "        temp = temp.next\n",
    "    \n",
    "    if temp == self.head:\n",
    "        raise Exception(\"Data not found.\")\n",
    "    prev.next = temp.next\n",
    "\n",
    "Ring.remove = remove"
   ]
  },
  {
   "cell_type": "code",
   "execution_count": 57,
   "metadata": {},
   "outputs": [
    {
     "name": "stdout",
     "output_type": "stream",
     "text": [
      "1->15->3->2\n",
      "15->3->2\n"
     ]
    }
   ],
   "source": [
    "r = Ring()\n",
    "r.insert(0, 1)\n",
    "r.insert(1, 2)\n",
    "r.insert(1, 15)\n",
    "r.insert(2, 3)\n",
    "print(r)\n",
    "\n",
    "r.remove(1)\n",
    "r.remove(15)\n",
    "\n",
    "print(r)"
   ]
  },
  {
   "cell_type": "code",
   "execution_count": 58,
   "metadata": {},
   "outputs": [],
   "source": [
    "## Length of Ring\n",
    "def length(self):\n",
    "    if self.head is None:\n",
    "        return 0\n",
    "    last = self._get_last()\n",
    "    \n",
    "    if last == self.head:\n",
    "        return 1\n",
    "    \n",
    "    temp = self.head.next\n",
    "    counter = 1\n",
    "    while temp != self.head:\n",
    "        temp = temp.next\n",
    "        counter += 1\n",
    "    return counter\n",
    "\n",
    "Ring.length = length"
   ]
  },
  {
   "cell_type": "code",
   "execution_count": 60,
   "metadata": {},
   "outputs": [],
   "source": [
    "def push(self, data):\n",
    "    return self.insert(self.length()-1, data)\n",
    "\n",
    "def pop(self, data):\n",
    "    return self.remove(self.length() - 1, data)\n",
    "\n",
    "Ring.push = push\n",
    "Ring.pop = pop"
   ]
  }
 ],
 "metadata": {
  "kernelspec": {
   "display_name": "venv",
   "language": "python",
   "name": "python3"
  },
  "language_info": {
   "codemirror_mode": {
    "name": "ipython",
    "version": 3
   },
   "file_extension": ".py",
   "mimetype": "text/x-python",
   "name": "python",
   "nbconvert_exporter": "python",
   "pygments_lexer": "ipython3",
   "version": "3.10.12"
  }
 },
 "nbformat": 4,
 "nbformat_minor": 2
}
